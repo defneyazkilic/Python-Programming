{
 "cells": [
  {
   "cell_type": "code",
   "execution_count": null,
   "id": "47ce0b1b",
   "metadata": {},
   "outputs": [],
   "source": [
    "# CS115 Lab 09 Questions"
   ]
  },
  {
   "cell_type": "markdown",
   "id": "8277cf2a",
   "metadata": {},
   "source": [
    "## *Question 01*"
   ]
  },
  {
   "cell_type": "markdown",
   "id": "65673d59",
   "metadata": {},
   "source": [
    "Import numpy"
   ]
  },
  {
   "cell_type": "code",
   "execution_count": 20,
   "id": "1a20a8e3",
   "metadata": {},
   "outputs": [],
   "source": [
    "import numpy as np\n"
   ]
  },
  {
   "cell_type": "markdown",
   "id": "a3949765",
   "metadata": {},
   "source": [
    "a.\tLoad the data from the file covid_data.txt into a numpy array, covid_data. \n",
    "b.\tLoad the data from the file covid_country.txt into a numpy array, covid_country. "
   ]
  },
  {
   "cell_type": "code",
   "execution_count": 31,
   "id": "85d28202",
   "metadata": {},
   "outputs": [],
   "source": [
    "covid_data = np.loadtxt(\"covid_data.txt\")\n",
    "covid_country = np.loadtxt(\"covid_country.txt\", skiprows= 1,dtype='str')"
   ]
  },
  {
   "cell_type": "markdown",
   "id": "1c9237e0",
   "metadata": {},
   "source": [
    "c.\tTranspose and update the covid_data array."
   ]
  },
  {
   "cell_type": "code",
   "execution_count": 32,
   "id": "3ae2dbe9",
   "metadata": {
    "scrolled": true
   },
   "outputs": [],
   "source": [
    "covid_data = covid_data.transpose()"
   ]
  },
  {
   "cell_type": "markdown",
   "id": "b6c04282",
   "metadata": {},
   "source": [
    "d.\tCalculate and display the maximum tests per 1 million."
   ]
  },
  {
   "cell_type": "code",
   "execution_count": 33,
   "id": "c425104d",
   "metadata": {},
   "outputs": [
    {
     "name": "stdout",
     "output_type": "stream",
     "text": [
      "Average cases per 1 million: 3642.6\n"
     ]
    }
   ],
   "source": [
    "av = np.mean(covid_data[:,0])\n",
    "print(f'Average cases per 1 million: {av:.1f}' )"
   ]
  },
  {
   "cell_type": "code",
   "execution_count": 34,
   "id": "374bb6a6",
   "metadata": {},
   "outputs": [
    {
     "name": "stdout",
     "output_type": "stream",
     "text": [
      "Countries in Asia ['India' 'Iran' 'Saudi_Arabia' 'Pakistan' 'Bangladesh' 'Turkey' 'Iraq'\n",
      " 'Philippines' 'Indonesia' 'Qatar' 'Kazakhstan' 'Oman' 'Israel' 'Kuwait'\n",
      " 'UAE' 'Singapore' 'Bahrain' 'Japan' 'Armenia' 'Kyrgyzstan' 'Afghanistan'\n",
      " 'Azerbaijan' 'Uzbekistan' 'Nepal' 'South_Korea' 'Palestine' 'Malaysia'\n",
      " 'Lebanon' 'Maldives' 'Hong_Kong' 'Thailand' 'Sri_Lanka' 'Jordan' 'Cyprus'\n",
      " 'Georgia' 'Vietnam' 'Taiwan' 'Myanmar' 'Brunei']\n"
     ]
    }
   ],
   "source": [
    "print('Countries in Asia',covid_country[covid_country[:,1] == 'Asia'][:,0])"
   ]
  },
  {
   "cell_type": "code",
   "execution_count": 35,
   "id": "ad130637",
   "metadata": {},
   "outputs": [
    {
     "name": "stdout",
     "output_type": "stream",
     "text": [
      "Countries with less than 50 deaths per 1 million:\n",
      " ['India' 'Pakistan' 'Bangladesh' 'Philippines' 'Indonesia' 'Egypt'\n",
      " 'Ukraine' 'UAE' 'Singapore' 'Poland' 'Nigeria' 'Japan' 'Ghana'\n",
      " 'Afghanistan' 'Azerbaijan' 'Morocco' 'Uzbekistan' 'Kenya' 'Venezuela'\n",
      " 'Nepal' 'Costa_Rica' 'Ethiopia' 'Australia' 'Czechia' 'Cameroon'\n",
      " 'Ivory_Coast' 'South_Korea' 'Palestine' 'Madagascar' 'Sudan' 'Senegal'\n",
      " 'Norway' 'Malaysia' 'Gabon' 'Guinea' 'Haiti' 'Zambia' 'Mauritania'\n",
      " 'Paraguay' 'Lebanon' 'Croatia' 'Greece' 'Libya' 'Maldives' 'CAR' 'Malawi'\n",
      " 'Zimbabwe' 'Hong_Kong' 'Thailand' 'Eswatini' 'Sri_Lanka' 'Cuba'\n",
      " 'Cabo_Verde' 'Namibia' 'Mali' 'Slovakia' 'South_Sudan' 'Lithuania'\n",
      " 'Estonia' 'Mozambique' 'Rwanda' 'Suriname' 'Guinea-Bissau' 'Benin'\n",
      " 'Iceland' 'Tunisia' 'New_Zealand' 'Angola' 'Uruguay' 'Latvia' 'Jordan'\n",
      " 'Uganda' 'Cyprus' 'Georgia' 'Niger' 'Togo' 'Jamaica' 'Malta' 'Gambia'\n",
      " 'Botswana' 'Bahamas' 'Vietnam' 'Lesotho' 'Reunion' 'Guyana' 'Taiwan'\n",
      " 'Burundi' 'Myanmar' 'Mauritius' 'Guadeloupe' 'Martinique' 'Aruba'\n",
      " 'Trinidad_Tobago' 'Cayman_Islands' 'Papua_New_Guinea' 'Brunei' 'Barbados'\n",
      " 'Antigua_Barbuda' 'Liechtenstein' 'Belize' 'Curacao' 'Fiji']\n"
     ]
    }
   ],
   "source": [
    "print('Countries with less than 50 deaths per 1 million:\\n',covid_country[covid_data[:,1] < 50][:,0])"
   ]
  },
  {
   "cell_type": "markdown",
   "id": "8c4cfae3",
   "metadata": {},
   "source": [
    "f.\tDisplay the names of the countries with death numbers less than 50"
   ]
  },
  {
   "cell_type": "code",
   "execution_count": 12,
   "id": "1d4a707f",
   "metadata": {},
   "outputs": [
    {
     "name": "stdout",
     "output_type": "stream",
     "text": [
      "Countries with less than 50 deaths per 1 million:\n",
      " ['India' 'Pakistan' 'Bangladesh' 'Philippines' 'Indonesia' 'Egypt'\n",
      " 'Ukraine' 'UAE' 'Singapore' 'Poland' 'Nigeria' 'Japan' 'Ghana'\n",
      " 'Afghanistan' 'Azerbaijan' 'Morocco' 'Uzbekistan' 'Kenya' 'Venezuela'\n",
      " 'Nepal' 'Costa_Rica' 'Ethiopia' 'Australia' 'Czechia' 'Cameroon'\n",
      " 'Ivory_Coast' 'South_Korea' 'Palestine' 'Madagascar' 'Sudan' 'Senegal'\n",
      " 'Norway' 'Malaysia' 'Gabon' 'Guinea' 'Haiti' 'Zambia' 'Mauritania'\n",
      " 'Paraguay' 'Lebanon' 'Croatia' 'Greece' 'Libya' 'Maldives' 'CAR' 'Malawi'\n",
      " 'Zimbabwe' 'Hong_Kong' 'Thailand' 'Eswatini' 'Sri_Lanka' 'Cuba'\n",
      " 'Cabo_Verde' 'Namibia' 'Mali' 'Slovakia' 'South_Sudan' 'Lithuania'\n",
      " 'Estonia' 'Mozambique' 'Rwanda' 'Suriname' 'Guinea-Bissau' 'Benin'\n",
      " 'Iceland' 'Tunisia' 'New_Zealand' 'Angola' 'Uruguay' 'Latvia' 'Jordan'\n",
      " 'Uganda' 'Cyprus' 'Georgia' 'Niger' 'Togo' 'Jamaica' 'Malta' 'Gambia'\n",
      " 'Botswana' 'Bahamas' 'Vietnam' 'Lesotho' 'Reunion' 'Guyana' 'Taiwan'\n",
      " 'Burundi' 'Myanmar' 'Mauritius' 'Guadeloupe' 'Martinique' 'Aruba'\n",
      " 'Trinidad_Tobago' 'Cayman_Islands' 'Papua_New_Guinea' 'Brunei' 'Barbados'\n",
      " 'Antigua_Barbuda' 'Liechtenstein' 'Belize' 'Curacao' 'Fiji']\n"
     ]
    }
   ],
   "source": []
  },
  {
   "cell_type": "markdown",
   "id": "bf9c28ce",
   "metadata": {},
   "source": [
    "g.\tCalculate and display the average cases per 1 million for Europe."
   ]
  },
  {
   "cell_type": "code",
   "execution_count": 37,
   "id": "52700475",
   "metadata": {},
   "outputs": [
    {
     "name": "stdout",
     "output_type": "stream",
     "text": [
      "Maximum cases per 1 million in Europe:  4075.3555555555554\n"
     ]
    }
   ],
   "source": [
    "europe = covid_data[covid_country[:,1] == 'Europe']\n",
    "mean_europe = np.mean(europe[:,0])\n",
    "print('Maximum cases per 1 million in Europe: ',max_europe)"
   ]
  },
  {
   "cell_type": "markdown",
   "id": "66e7be8c",
   "metadata": {},
   "source": [
    "h.\tDisplay the name of the countr(ies) with the minimum total cases per million in Europe(note: there may be more than one country with the same minimum total cases per million in Europe."
   ]
  },
  {
   "cell_type": "code",
   "execution_count": 44,
   "id": "dd32853e",
   "metadata": {
    "scrolled": true
   },
   "outputs": [
    {
     "name": "stdout",
     "output_type": "stream",
     "text": [
      "Country with minimum cases per 1 million in Europe:  ['Slovakia']\n"
     ]
    }
   ],
   "source": [
    "\n",
    "europe = covid_data[covid_country[:,1] == 'Europe']\n",
    "min_europe=np.min(europe[:,0])\n",
    "min_country = covid_country[ (covid_data[:,0] == min_europe)][:,0] \n",
    "print('Country with minimum cases per 1 million in Europe: ', min_country)\n"
   ]
  },
  {
   "cell_type": "markdown",
   "id": "121c6e44",
   "metadata": {},
   "source": [
    "i.\tCreate a new array, test_result, where the first column contains country names, and the second column contains the deaths per 1 million. Hint: your new array should have 2 columns and 172 rows, not 172 columns and 2 rows."
   ]
  },
  {
   "cell_type": "code",
   "execution_count": null,
   "id": "50b6138c",
   "metadata": {},
   "outputs": [],
   "source": [
    "test_country = (np.array([covid_country[:,0], covid_data[:,2]])).transpose()\n",
    "np.savetxt('test_data.txt',test_country,fmt='%s')"
   ]
  },
  {
   "cell_type": "markdown",
   "id": "889ab60f",
   "metadata": {},
   "source": [
    "j.\tOutput the data in test_result to a file, test_result.txt."
   ]
  },
  {
   "cell_type": "code",
   "execution_count": 46,
   "id": "f5c7a475",
   "metadata": {},
   "outputs": [
    {
     "name": "stdout",
     "output_type": "stream",
     "text": [
      "[['USA' '190640.0']\n",
      " ['Brazil' '62085.0']\n",
      " ['India' '16035.0']\n",
      " ['Russia' '203623.0']\n",
      " ['South_Africa' '53044.0']\n",
      " ['Mexico' '8189.0']\n",
      " ['Peru' '75521.0']\n",
      " ['Chile' '92022.0']\n",
      " ['Colombia' '35374.0']\n",
      " ['Spain' '151087.0']\n",
      " ['Iran' '31068.0']\n",
      " ['UK' '257873.0']\n",
      " ['Saudi_Arabia' '104277.0']\n",
      " ['Pakistan' '9304.0']\n",
      " ['Bangladesh' '7432.0']\n",
      " ['Italy' '117443.0']\n",
      " ['Turkey' '60191.0']\n",
      " ['Argentina' '17564.0']\n",
      " ['Germany' '102452.0']\n",
      " ['France' '61147.0']\n",
      " ['Iraq' '27111.0']\n",
      " ['Philippines' '15220.0']\n",
      " ['Indonesia' '5965.0']\n",
      " ['Canada' '114339.0']\n",
      " ['Qatar' '181993.0']\n",
      " ['Kazakhstan' '115099.0']\n",
      " ['Egypt' '1317.0']\n",
      " ['Ecuador' '14635.0']\n",
      " ['Bolivia' '15706.0']\n",
      " ['Sweden' '85429.0']\n",
      " ['Oman' '60411.0']\n",
      " ['Israel' '203581.0']\n",
      " ['Ukraine' '25549.0']\n",
      " ['Dominican_Republic' '25963.0']\n",
      " ['Panama' '55769.0']\n",
      " ['Belgium' '152407.0']\n",
      " ['Kuwait' '122105.0']\n",
      " ['Belarus' '142269.0']\n",
      " ['UAE' '531470.0']\n",
      " ['Romania' '68631.0']\n",
      " ['Netherlands' '63007.0']\n",
      " ['Singapore' '251817.0']\n",
      " ['Guatemala' '9624.0']\n",
      " ['Portugal' '167308.0']\n",
      " ['Poland' '62752.0']\n",
      " ['Nigeria' '1485.0']\n",
      " ['Honduras' '11018.0']\n",
      " ['Bahrain' '513691.0']\n",
      " ['Japan' '7425.0']\n",
      " ['Armenia' '57898.0']\n",
      " ['Ghana' '13035.0']\n",
      " ['Kyrgyzstan' '40970.0']\n",
      " ['Afghanistan' '2317.0']\n",
      " ['Switzerland' '94997.0']\n",
      " ['Azerbaijan' '75499.0']\n",
      " ['Morocco' '37448.0']\n",
      " ['Uzbekistan' '41112.0']\n",
      " ['Serbia' '82799.0']\n",
      " ['Moldova' '31757.0']\n",
      " ['Ireland' '132084.0']\n",
      " ['Kenya' '6223.0']\n",
      " ['Venezuela' '55138.0']\n",
      " ['Nepal' '25079.0']\n",
      " ['Austria' '104008.0']\n",
      " ['Costa_Rica' '18850.0']\n",
      " ['Ethiopia' '4069.0']\n",
      " ['Australia' '181419.0']\n",
      " ['El_Salvador' '38720.0']\n",
      " ['Czechia' '68030.0']\n",
      " ['Cameroon' '5600.0']\n",
      " ['Ivory_Coast' '3956.0']\n",
      " ['South_Korea' '31471.0']\n",
      " ['Denmark' '285542.0']\n",
      " ['Palestine' '39176.0']\n",
      " ['Bosnia_Herzegovina' '44842.0']\n",
      " ['Bulgaria' '42358.0']\n",
      " ['Madagascar' '1668.0']\n",
      " ['Sudan' '9.0']\n",
      " ['North_Macedonia' '52773.0']\n",
      " ['Senegal' '6838.0']\n",
      " ['Norway' '87152.0']\n",
      " ['Malaysia' '30591.0']\n",
      " ['French_Guiana' '138324.0']\n",
      " ['Gabon' '38272.0']\n",
      " ['Guinea' '1094.0']\n",
      " ['Haiti' '1616.0']\n",
      " ['Finland' '70287.0']\n",
      " ['Zambia' '4900.0']\n",
      " ['Luxembourg' '995282.0']\n",
      " ['Mauritania' '12313.0']\n",
      " ['Paraguay' '18943.0']\n",
      " ['Albania' '13553.0']\n",
      " ['Lebanon' '50609.0']\n",
      " ['Croatia' '30546.0']\n",
      " ['Djibouti' '60552.0']\n",
      " ['Greece' '59456.0']\n",
      " ['Libya' '8677.0']\n",
      " ['Equatorial_Guinea' '31525.0']\n",
      " ['Maldives' '158071.0']\n",
      " ['CAR' '6116.0']\n",
      " ['Hungary' '36504.0']\n",
      " ['Malawi' '1745.0']\n",
      " ['Zimbabwe' '9434.0']\n",
      " ['Hong_Kong' '92287.0']\n",
      " ['Montenegro' '61182.0']\n",
      " ['Thailand' '10731.0']\n",
      " ['Mayotte' '47546.0']\n",
      " ['Eswatini' '17896.0']\n",
      " ['Sri_Lanka' '7783.0']\n",
      " ['Cuba' '25205.0']\n",
      " ['Cabo_Verde' '110735.0']\n",
      " ['Namibia' '11485.0']\n",
      " ['Mali' '1239.0']\n",
      " ['Slovakia' '49877.0']\n",
      " ['South_Sudan' '1075.0']\n",
      " ['Slovenia' '65274.0']\n",
      " ['Lithuania' '198955.0']\n",
      " ['Estonia' '92626.0']\n",
      " ['Mozambique' '2079.0']\n",
      " ['Rwanda' '22051.0']\n",
      " ['Suriname' '4743.0']\n",
      " ['Guinea-Bissau' '761.0']\n",
      " ['Benin' '7709.0']\n",
      " ['Iceland' '438385.0']\n",
      " ['Tunisia' '8478.0']\n",
      " ['New_Zealand' '97348.0']\n",
      " ['Angola' '1965.0']\n",
      " ['Uruguay' '36535.0']\n",
      " ['Latvia' '110359.0']\n",
      " ['Jordan' '61562.0']\n",
      " ['Uganda' '6287.0']\n",
      " ['Cyprus' '179267.0']\n",
      " ['Georgia' '60294.0']\n",
      " ['Niger' '373.0']\n",
      " ['Togo' '5516.0']\n",
      " ['Jamaica' '14123.0']\n",
      " ['Malta' '309541.0']\n",
      " ['Andorra' '48526.0']\n",
      " ['Gambia' '2139.0']\n",
      " ['SaoTome_Principe' '14025.0']\n",
      " ['Botswana' '29041.0']\n",
      " ['Bahamas' '12230.0']\n",
      " ['Vietnam' '4952.0']\n",
      " ['Lesotho' '4091.0']\n",
      " ['San_Marino' '178797.0']\n",
      " ['Reunion' '39532.0']\n",
      " ['Channel_Islands' '176535.0']\n",
      " ['Guyana' '6563.0']\n",
      " ['Taiwan' '3473.0']\n",
      " ['Burundi' '1310.0']\n",
      " ['Myanmar' '2246.0']\n",
      " ['Mauritius' '161389.0']\n",
      " ['Isle_of_Man' '101401.0']\n",
      " ['Guadeloupe' '46175.0']\n",
      " ['Martinique' '32585.0']\n",
      " ['Aruba' '131511.0']\n",
      " ['Trinidad_Tobago' '6828.0']\n",
      " ['Cayman_Islands' '472780.0']\n",
      " ['Papua_New_Guinea' '1206.0']\n",
      " ['Sint_Maarten' '25976.0']\n",
      " ['Bermuda' '423298.0']\n",
      " ['Brunei' '93968.0']\n",
      " ['Barbados' '42563.0']\n",
      " ['Turks_and_Caicos' '32295.0']\n",
      " ['Monaco' '972982.0']\n",
      " ['Antigua_Barbuda' '15305.0']\n",
      " ['Liechtenstein' '23598.0']\n",
      " ['Belize' '9236.0']\n",
      " ['Saint_Martin' '30546.0']\n",
      " ['Curacao' '6579.0']\n",
      " ['Fiji' '7461.0']\n",
      " ['Montserrat' '12220.0']]\n"
     ]
    }
   ],
   "source": [
    "test_country = (np.array([covid_country[:,0], covid_data[:,2]])).transpose()\n",
    "np.savetxt('test_data.txt',test_country,fmt='%s')\n",
    "print(test_country)\n"
   ]
  },
  {
   "cell_type": "code",
   "execution_count": null,
   "id": "b090f91d",
   "metadata": {},
   "outputs": [],
   "source": []
  }
 ],
 "metadata": {
  "kernelspec": {
   "display_name": "Python 3",
   "language": "python",
   "name": "python3"
  },
  "language_info": {
   "codemirror_mode": {
    "name": "ipython",
    "version": 3
   },
   "file_extension": ".py",
   "mimetype": "text/x-python",
   "name": "python",
   "nbconvert_exporter": "python",
   "pygments_lexer": "ipython3",
   "version": "3.8.8"
  }
 },
 "nbformat": 4,
 "nbformat_minor": 5
}
